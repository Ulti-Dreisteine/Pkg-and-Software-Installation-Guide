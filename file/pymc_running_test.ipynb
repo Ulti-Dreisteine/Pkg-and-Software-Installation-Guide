{
 "cells": [
  {
   "attachments": {},
   "cell_type": "markdown",
   "metadata": {},
   "source": [
    "## **PyMC3运行测试: 线性趋势断点估计**"
   ]
  },
  {
   "cell_type": "code",
   "execution_count": 1,
   "metadata": {},
   "outputs": [],
   "source": [
    "import numpy as np\n",
    "import matplotlib.pyplot as plt"
   ]
  },
  {
   "cell_type": "markdown",
   "metadata": {},
   "source": [
    "生成连续的两段线性趋势样本$x$和$y$, 如下所示:"
   ]
  },
  {
   "cell_type": "code",
   "execution_count": 2,
   "metadata": {},
   "outputs": [
    {
     "data": {
      "image/png": "[encoded data removed]",
      "text/plain": [
       "<Figure size 288x288 with 1 Axes>"
      ]
     },
     "metadata": {
      "needs_background": "light"
     },
     "output_type": "display_data"
    }
   ],
   "source": [
    "x = np.linspace(0.0, 1.0, 101)\n",
    "\n",
    "x_left = x[np.where(x <= 0.5)]\n",
    "x_right = x[np.where(x > 0.5)]\n",
    "\n",
    "np.random.seed(2)\n",
    "y_left = 1.0 * x_left + 0.0 + np.random.normal(loc=0, scale=0.03, size=x_left.shape)\n",
    "y_right = 1.5 * (x_right - 0.5) + 0.5 + np.random.normal(loc=0, scale=0.03, size=x_right.shape)\n",
    "\n",
    "y = np.r_[y_left, y_right]\n",
    "\n",
    "# 画图\n",
    "plt.figure(figsize=(4, 4))\n",
    "plt.scatter(x, y, s=40, alpha=.5, color=\"grey\")\n",
    "plt.xlabel(\"$\\hat{x}$\")\n",
    "plt.ylabel(\"$\\hat{y}$\")\n",
    "plt.tight_layout()"
   ]
  },
  {
   "cell_type": "markdown",
   "metadata": {},
   "source": [
    "接下来, 采用PyMC库进行参数的贝叶斯估计"
   ]
  },
  {
   "cell_type": "code",
   "execution_count": 3,
   "metadata": {},
   "outputs": [
    {
     "name": "stdout",
     "output_type": "stream",
     "text": [
      "WARN: Could not locate executable g77\n",
      "WARN: Could not locate executable f77\n",
      "WARN: Could not locate executable ifort\n",
      "WARN: Could not locate executable ifl\n",
      "WARN: Could not locate executable f90\n",
      "WARN: Could not locate executable DF\n",
      "WARN: Could not locate executable efl\n"
     ]
    },
    {
     "name": "stderr",
     "output_type": "stream",
     "text": [
      "WARNING (theano.tensor.blas): Using NumPy C-API based implementation for BLAS functions.\n"
     ]
    }
   ],
   "source": [
    "import pymc3 as pm"
   ]
  },
  {
   "cell_type": "code",
   "execution_count": 4,
   "metadata": {},
   "outputs": [],
   "source": [
    "# 初始化一个贝叶斯模型实例\n",
    "basic_model = pm.Model()\n",
    "\n",
    "# 定义模型中待估计的参数\n",
    "with basic_model:\n",
    "    c = pm.Uniform(\"c\", lower=0.2, upper=0.8)\n",
    "    a1 = pm.Normal(\"a1\", mu=1.0, sigma=1.0)\n",
    "    b1 = pm.Normal(\"b1\", mu=0.0, sigma=1.0)\n",
    "    a2 = pm.Normal(\"a2\", mu=1.0, sigma=1.0)\n",
    "    b2 = pm.Normal(\"b2\", mu=0.0, sigma=1.0)\n",
    "    s = pm.Exponential(\"sampling_noise_std\", 3)"
   ]
  },
  {
   "cell_type": "code",
   "execution_count": 5,
   "metadata": {},
   "outputs": [
    {
     "data": {
      "text/plain": [
       "[c_interval__ ~ TransformedDistribution,\n",
       " a1 ~ Normal,\n",
       " b1 ~ Normal,\n",
       " a2 ~ Normal,\n",
       " b2 ~ Normal,\n",
       " sampling_noise_std_log__ ~ TransformedDistribution,\n",
       " obs ~ Normal]"
      ]
     },
     "execution_count": 5,
     "metadata": {},
     "output_type": "execute_result"
    }
   ],
   "source": [
    "with basic_model:\n",
    "    # 根据参数确定线性趋势参数\n",
    "    a = pm.math.switch(x < c, a1, a2)  # 每个x值对应的参数构成的序列\n",
    "    b = pm.math.switch(x < c, b1, b2)\n",
    "    \n",
    "    obs = pm.Normal(\"obs\", a * x + b, s, observed=y)\n",
    "    \n",
    "basic_model.basic_RVs"
   ]
  },
  {
   "cell_type": "code",
   "execution_count": 6,
   "metadata": {},
   "outputs": [
    {
     "data": {
      "image/svg+xml": [
       "<?xml version=\"1.0\" encoding=\"UTF-8\" standalone=\"no\"?>\n",
       "<!DOCTYPE svg PUBLIC \"-//W3C//DTD SVG 1.1//EN\"\n",
       " \"http://www.w3.org/Graphics/SVG/1.1/DTD/svg11.dtd\">\n",
       "<!-- Generated by graphviz version 2.50.0 (0)\n",
       " -->\n",
       "<!-- Pages: 1 -->\n",
       "<svg width=\"698pt\" height=\"233pt\"\n",
       " viewBox=\"0.00 0.00 697.64 232.91\" xmlns=\"http://www.w3.org/2000/svg\" xmlns:xlink=\"http://www.w3.org/1999/xlink\">\n",
       "<g id=\"graph0\" class=\"graph\" transform=\"scale(1 1) rotate(0) translate(4 228.91)\">\n",
       "<polygon fill=\"white\" stroke=\"transparent\" points=\"-4,4 -4,-228.91 693.64,-228.91 693.64,4 -4,4\"/>\n",
       "<g id=\"clust1\" class=\"cluster\">\n",
       "<title>cluster101</title>\n",
       "<path fill=\"none\" stroke=\"black\" d=\"M263.25,-8C263.25,-8 339.25,-8 339.25,-8 345.25,-8 351.25,-14 351.25,-20 351.25,-20 351.25,-109.95 351.25,-109.95 351.25,-115.95 345.25,-121.95 339.25,-121.95 339.25,-121.95 263.25,-121.95 263.25,-121.95 257.25,-121.95 251.25,-115.95 251.25,-109.95 251.25,-109.95 251.25,-20 251.25,-20 251.25,-14 257.25,-8 263.25,-8\"/>\n",
       "<text text-anchor=\"middle\" x=\"332.75\" y=\"-15.8\" font-family=\"Times New Roman,serif\" font-size=\"14.00\">101</text>\n",
       "</g>\n",
       "<!-- c -->\n",
       "<g id=\"node1\" class=\"node\">\n",
       "<title>c</title>\n",
       "<ellipse fill=\"none\" stroke=\"black\" cx=\"45.25\" cy=\"-187.43\" rx=\"45.01\" ry=\"37.45\"/>\n",
       "<text text-anchor=\"middle\" x=\"45.25\" y=\"-198.73\" font-family=\"Times New Roman,serif\" font-size=\"14.00\">c</text>\n",
       "<text text-anchor=\"middle\" x=\"45.25\" y=\"-183.73\" font-family=\"Times New Roman,serif\" font-size=\"14.00\">~</text>\n",
       "<text text-anchor=\"middle\" x=\"45.25\" y=\"-168.73\" font-family=\"Times New Roman,serif\" font-size=\"14.00\">Uniform</text>\n",
       "</g>\n",
       "<!-- obs -->\n",
       "<g id=\"node7\" class=\"node\">\n",
       "<title>obs</title>\n",
       "<ellipse fill=\"lightgrey\" stroke=\"black\" cx=\"301.25\" cy=\"-76.48\" rx=\"41.94\" ry=\"37.45\"/>\n",
       "<text text-anchor=\"middle\" x=\"301.25\" y=\"-87.78\" font-family=\"Times New Roman,serif\" font-size=\"14.00\">obs</text>\n",
       "<text text-anchor=\"middle\" x=\"301.25\" y=\"-72.78\" font-family=\"Times New Roman,serif\" font-size=\"14.00\">~</text>\n",
       "<text text-anchor=\"middle\" x=\"301.25\" y=\"-57.78\" font-family=\"Times New Roman,serif\" font-size=\"14.00\">Normal</text>\n",
       "</g>\n",
       "<!-- c&#45;&gt;obs -->\n",
       "<g id=\"edge1\" class=\"edge\">\n",
       "<title>c&#45;&gt;obs</title>\n",
       "<path fill=\"none\" stroke=\"black\" d=\"M78.75,-161.94C85.37,-157.64 92.39,-153.43 99.25,-149.95 149.25,-124.6 210.24,-104.02 252.04,-91.35\"/>\n",
       "<polygon fill=\"black\" stroke=\"black\" points=\"253.13,-94.68 261.71,-88.46 251.13,-87.97 253.13,-94.68\"/>\n",
       "</g>\n",
       "<!-- b2 -->\n",
       "<g id=\"node2\" class=\"node\">\n",
       "<title>b2</title>\n",
       "<ellipse fill=\"none\" stroke=\"black\" cx=\"150.25\" cy=\"-187.43\" rx=\"41.94\" ry=\"37.45\"/>\n",
       "<text text-anchor=\"middle\" x=\"150.25\" y=\"-198.73\" font-family=\"Times New Roman,serif\" font-size=\"14.00\">b2</text>\n",
       "<text text-anchor=\"middle\" x=\"150.25\" y=\"-183.73\" font-family=\"Times New Roman,serif\" font-size=\"14.00\">~</text>\n",
       "<text text-anchor=\"middle\" x=\"150.25\" y=\"-168.73\" font-family=\"Times New Roman,serif\" font-size=\"14.00\">Normal</text>\n",
       "</g>\n",
       "<!-- b2&#45;&gt;obs -->\n",
       "<g id=\"edge2\" class=\"edge\">\n",
       "<title>b2&#45;&gt;obs</title>\n",
       "<path fill=\"none\" stroke=\"black\" d=\"M182.24,-163.04C188.22,-158.68 194.42,-154.17 200.25,-149.95 220.12,-135.58 242.24,-119.69 260.71,-106.46\"/>\n",
       "<polygon fill=\"black\" stroke=\"black\" points=\"262.82,-109.25 268.91,-100.59 258.75,-103.56 262.82,-109.25\"/>\n",
       "</g>\n",
       "<!-- a1 -->\n",
       "<g id=\"node3\" class=\"node\">\n",
       "<title>a1</title>\n",
       "<ellipse fill=\"none\" stroke=\"black\" cx=\"251.25\" cy=\"-187.43\" rx=\"41.94\" ry=\"37.45\"/>\n",
       "<text text-anchor=\"middle\" x=\"251.25\" y=\"-198.73\" font-family=\"Times New Roman,serif\" font-size=\"14.00\">a1</text>\n",
       "<text text-anchor=\"middle\" x=\"251.25\" y=\"-183.73\" font-family=\"Times New Roman,serif\" font-size=\"14.00\">~</text>\n",
       "<text text-anchor=\"middle\" x=\"251.25\" y=\"-168.73\" font-family=\"Times New Roman,serif\" font-size=\"14.00\">Normal</text>\n",
       "</g>\n",
       "<!-- a1&#45;&gt;obs -->\n",
       "<g id=\"edge3\" class=\"edge\">\n",
       "<title>a1&#45;&gt;obs</title>\n",
       "<path fill=\"none\" stroke=\"black\" d=\"M266.8,-152.55C271.46,-142.41 276.63,-131.14 281.51,-120.49\"/>\n",
       "<polygon fill=\"black\" stroke=\"black\" points=\"284.73,-121.88 285.72,-111.33 278.37,-118.96 284.73,-121.88\"/>\n",
       "</g>\n",
       "<!-- a2 -->\n",
       "<g id=\"node4\" class=\"node\">\n",
       "<title>a2</title>\n",
       "<ellipse fill=\"none\" stroke=\"black\" cx=\"352.25\" cy=\"-187.43\" rx=\"41.94\" ry=\"37.45\"/>\n",
       "<text text-anchor=\"middle\" x=\"352.25\" y=\"-198.73\" font-family=\"Times New Roman,serif\" font-size=\"14.00\">a2</text>\n",
       "<text text-anchor=\"middle\" x=\"352.25\" y=\"-183.73\" font-family=\"Times New Roman,serif\" font-size=\"14.00\">~</text>\n",
       "<text text-anchor=\"middle\" x=\"352.25\" y=\"-168.73\" font-family=\"Times New Roman,serif\" font-size=\"14.00\">Normal</text>\n",
       "</g>\n",
       "<!-- a2&#45;&gt;obs -->\n",
       "<g id=\"edge4\" class=\"edge\">\n",
       "<title>a2&#45;&gt;obs</title>\n",
       "<path fill=\"none\" stroke=\"black\" d=\"M336.4,-152.55C331.65,-142.41 326.38,-131.14 321.39,-120.49\"/>\n",
       "<polygon fill=\"black\" stroke=\"black\" points=\"324.51,-118.91 317.1,-111.33 318.17,-121.87 324.51,-118.91\"/>\n",
       "</g>\n",
       "<!-- b1 -->\n",
       "<g id=\"node5\" class=\"node\">\n",
       "<title>b1</title>\n",
       "<ellipse fill=\"none\" stroke=\"black\" cx=\"453.25\" cy=\"-187.43\" rx=\"41.94\" ry=\"37.45\"/>\n",
       "<text text-anchor=\"middle\" x=\"453.25\" y=\"-198.73\" font-family=\"Times New Roman,serif\" font-size=\"14.00\">b1</text>\n",
       "<text text-anchor=\"middle\" x=\"453.25\" y=\"-183.73\" font-family=\"Times New Roman,serif\" font-size=\"14.00\">~</text>\n",
       "<text text-anchor=\"middle\" x=\"453.25\" y=\"-168.73\" font-family=\"Times New Roman,serif\" font-size=\"14.00\">Normal</text>\n",
       "</g>\n",
       "<!-- b1&#45;&gt;obs -->\n",
       "<g id=\"edge5\" class=\"edge\">\n",
       "<title>b1&#45;&gt;obs</title>\n",
       "<path fill=\"none\" stroke=\"black\" d=\"M421.29,-163.02C415.31,-158.66 409.1,-154.16 403.25,-149.95 383.23,-135.53 360.89,-119.64 342.23,-106.42\"/>\n",
       "<polygon fill=\"black\" stroke=\"black\" points=\"344.13,-103.47 333.94,-100.55 340.08,-109.18 344.13,-103.47\"/>\n",
       "</g>\n",
       "<!-- sampling_noise_std -->\n",
       "<g id=\"node6\" class=\"node\">\n",
       "<title>sampling_noise_std</title>\n",
       "<ellipse fill=\"none\" stroke=\"black\" cx=\"601.25\" cy=\"-187.43\" rx=\"88.28\" ry=\"37.45\"/>\n",
       "<text text-anchor=\"middle\" x=\"601.25\" y=\"-198.73\" font-family=\"Times New Roman,serif\" font-size=\"14.00\">sampling_noise_std</text>\n",
       "<text text-anchor=\"middle\" x=\"601.25\" y=\"-183.73\" font-family=\"Times New Roman,serif\" font-size=\"14.00\">~</text>\n",
       "<text text-anchor=\"middle\" x=\"601.25\" y=\"-168.73\" font-family=\"Times New Roman,serif\" font-size=\"14.00\">Exponential</text>\n",
       "</g>\n",
       "<!-- sampling_noise_std&#45;&gt;obs -->\n",
       "<g id=\"edge6\" class=\"edge\">\n",
       "<title>sampling_noise_std&#45;&gt;obs</title>\n",
       "<path fill=\"none\" stroke=\"black\" d=\"M536.35,-161.85C525.64,-157.84 514.64,-153.76 504.25,-149.95 451.4,-130.58 390.56,-108.95 349.37,-94.4\"/>\n",
       "<polygon fill=\"black\" stroke=\"black\" points=\"350.46,-91.07 339.86,-91.04 348.13,-97.67 350.46,-91.07\"/>\n",
       "</g>\n",
       "</g>\n",
       "</svg>\n"
      ],
      "text/plain": [
       "<graphviz.graphs.Digraph at 0x1ed4658e970>"
      ]
     },
     "execution_count": 6,
     "metadata": {},
     "output_type": "execute_result"
    }
   ],
   "source": [
    "pm.model_graph.model_to_graphviz(basic_model)"
   ]
  },
  {
   "cell_type": "code",
   "execution_count": 7,
   "metadata": {},
   "outputs": [
    {
     "name": "stderr",
     "output_type": "stream",
     "text": [
      "Sampling 1 chain for 20_000 tune and 10_000 draw iterations (20_000 + 10_000 draws total) took 21 seconds.\n",
      "d:\\Anaconda3\\envs\\pymc3_bayesian_env\\lib\\site-packages\\arviz\\data\\base.py:220: UserWarning: More chains (10000) than draws (6). Passed array should have shape (chains, draws, *shape)\n",
      "  warnings.warn(\n",
      "Only one chain was sampled, this makes it impossible to run some convergence checks\n"
     ]
    }
   ],
   "source": [
    "with basic_model:\n",
    "    step = pm.Metropolis()  # 采用的迭代函数.\n",
    "    trace = pm.sample(10000, tune=20000, step=step, return_inferencedata=False, cores=1, chains=1)"
   ]
  },
  {
   "cell_type": "code",
   "execution_count": 8,
   "metadata": {},
   "outputs": [],
   "source": [
    "c_samples = trace[\"c\"]\n",
    "a1_samples = trace[\"a1\"]\n",
    "b1_samples = trace[\"b1\"]\n",
    "a2_samples = trace[\"a2\"]\n",
    "b2_samples = trace[\"b2\"]\n",
    "error = trace[\"sampling_noise_std\"]"
   ]
  },
  {
   "cell_type": "code",
   "execution_count": 9,
   "metadata": {},
   "outputs": [
    {
     "data": {
      "image/png": "[encoded data removed]",
      "text/plain": [
       "<Figure size 864x144 with 5 Axes>"
      ]
     },
     "metadata": {
      "needs_background": "light"
     },
     "output_type": "display_data"
    }
   ],
   "source": [
    "plt.figure(figsize=(12, 2))\n",
    "plt.subplot(1, 5, 1)\n",
    "plt.hist(c_samples, bins=50, density=1)\n",
    "plt.xlabel(\"$c$\", fontsize=16)\n",
    "plt.ylabel(\"prob density\", fontsize=16)\n",
    "plt.subplot(1, 5, 2)\n",
    "plt.scatter(a1_samples, b1_samples, s=10, marker=\"+\", linewidth=1)\n",
    "plt.xlabel(\"$a_1$\", fontsize=16)\n",
    "plt.ylabel(\"$b_1$\", fontsize=16)\n",
    "plt.subplot(1, 5, 3)\n",
    "plt.scatter(a2_samples, b2_samples, s=10, marker=\"+\", linewidth=1)\n",
    "plt.xlabel(\"$a_2$\", fontsize=16)\n",
    "plt.ylabel(\"$b_2$\", fontsize=16)\n",
    "plt.subplot(1, 5, 4)\n",
    "plt.hist(error, bins=50, density=1)\n",
    "plt.xlabel(\"$\\sigma_{\\\\rm sampling}$\", fontsize=16)\n",
    "plt.ylabel(\"prob density\", fontsize=16)\n",
    "plt.subplot(1, 5, 5)\n",
    "plt.hist(a2_samples - a1_samples, bins=50, density=1)\n",
    "plt.xlabel(\"$a_1 - a_2$\", fontsize=16)\n",
    "plt.ylabel(\"prob density\", fontsize=16)\n",
    "plt.tight_layout()"
   ]
  }
 ],
 "metadata": {
  "interpreter": {
   "hash": "07efdcd4b820c98a756949507a4d29d7862823915ec7477944641bea022f4f62"
  },
  "kernelspec": {
   "display_name": "Python 3.9.7 ('base')",
   "language": "python",
   "name": "python3"
  },
  "language_info": {
   "codemirror_mode": {
    "name": "ipython",
    "version": 3
   },
   "file_extension": ".py",
   "mimetype": "text/x-python",
   "name": "python",
   "nbconvert_exporter": "python",
   "pygments_lexer": "ipython3",
   "version": "3.8.8"
  },
  "orig_nbformat": 4
 },
 "nbformat": 4,
 "nbformat_minor": 2
}
